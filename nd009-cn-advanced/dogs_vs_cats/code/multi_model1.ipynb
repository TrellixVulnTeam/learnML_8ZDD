{
 "cells": [
  {
   "cell_type": "markdown",
   "metadata": {},
   "source": [
    "### 使用预训练模型Inception V3，Xception和Inception Res Net V2分别导出特征文件。"
   ]
  },
  {
   "cell_type": "code",
   "execution_count": 1,
   "metadata": {},
   "outputs": [
    {
     "name": "stderr",
     "output_type": "stream",
     "text": [
      "/usr/local/anaconda3/lib/python3.6/site-packages/h5py/__init__.py:36: FutureWarning: Conversion of the second argument of issubdtype from `float` to `np.floating` is deprecated. In future, it will be treated as `np.float64 == np.dtype(float).type`.\n",
      "  from ._conv import register_converters as _register_converters\n",
      "Using TensorFlow backend.\n",
      "/usr/local/anaconda3/lib/python3.6/importlib/_bootstrap.py:219: RuntimeWarning: compiletime version 3.5 of module 'tensorflow.python.framework.fast_tensor_util' does not match runtime version 3.6\n",
      "  return f(*args, **kwds)\n"
     ]
    },
    {
     "name": "stdout",
     "output_type": "stream",
     "text": [
      "2018-03-30 14:19:45\n",
      "Found 25000 images belonging to 2 classes.\n",
      "Found 12500 images belonging to 1 classes.\n",
      "2018-03-30 14:23:53\n",
      "Found 25000 images belonging to 2 classes.\n",
      "Found 12500 images belonging to 1 classes.\n",
      "2018-03-30 14:29:51\n",
      "Found 25000 images belonging to 2 classes.\n",
      "Found 12500 images belonging to 1 classes.\n",
      "2018-03-30 14:37:52\n"
     ]
    }
   ],
   "source": [
    "from keras.models import *\n",
    "from keras.layers import *\n",
    "from keras.applications import *\n",
    "from keras.preprocessing.image import *\n",
    "from sklearn.utils import shuffle\n",
    "import pandas as pd\n",
    "from keras.preprocessing.image import *\n",
    "import matplotlib.pyplot as plt\n",
    "from datetime import datetime\n",
    "%matplotlib inline\n",
    "\n",
    "np.random.seed(2018)\n",
    "\n",
    "def show_loss(Model):\n",
    "    fig, ax = plt.subplots(2,1)\n",
    "    his_model = Model.history\n",
    "    history = his_model.history\n",
    "    ax[0].plot(history['loss'], color='b', label=\"loss\")\n",
    "    ax[0].plot(history['val_loss'], color='r', label=\"val_loss\",axes =ax[0])\n",
    "    legend = ax[0].legend(loc='best', shadow=True)\n",
    "\n",
    "    ax[1].plot(history['acc'], color='g', label=\"acc\")\n",
    "    ax[1].plot(history['val_acc'], color='c',label=\"val_acc\")\n",
    "    legend = ax[1].legend(loc='best', shadow=True)\n",
    "\n",
    "def show_time():\n",
    "    print(datetime.now().strftime('%Y-%m-%d %H:%M:%S'))\n",
    "\n",
    "def get_model_feature_file(MODEL,image_size,lambda_func=None):\n",
    "    \n",
    "    x = Input((image_size[1],image_size[0],3))\n",
    "    if lambda_func:\n",
    "        x = Lambda(lambda_func)(x)\n",
    "\n",
    "    base_model = MODEL(input_tensor=x, weights='imagenet',include_top = False)\n",
    "    model = Model(base_model.input, GlobalAveragePooling2D()(base_model.output))\n",
    "\n",
    "    gen2 = ImageDataGenerator()  #图片生成器ImageDataGenerator\n",
    "    train_generator = gen2.flow_from_directory(\"train2\",image_size,shuffle=False,batch_size=16)\n",
    "    test_generator = gen2.flow_from_directory(\"test2\", image_size, shuffle=False, batch_size=16,class_mode=None)\n",
    "\n",
    "    train = model.predict_generator(train_generator,steps = train_generator.samples/16)\n",
    "    test = model.predict_generator(test_generator,steps = test_generator.samples/16)\n",
    "\n",
    "\n",
    "    with h5py.File(\"gap_%s.h5\"%MODEL.__name__,mode=\"w\") as h:\n",
    "        h.create_dataset(\"train\",data=train)\n",
    "        h.create_dataset(\"test\", data=test)\n",
    "        h.create_dataset(\"label\", data=train_generator.classes)\n",
    "\n",
    "show_time()\n",
    "get_model_feature_file(InceptionV3,(299,299),inception_v3.preprocess_input)\n",
    "show_time()\n",
    "get_model_feature_file(Xception,(299,299),xception.preprocess_input)\n",
    "show_time()\n",
    "get_model_feature_file(InceptionResNetV2,(299,299),inception_resnet_v2.preprocess_input)\n",
    "show_time()"
   ]
  },
  {
   "cell_type": "markdown",
   "metadata": {},
   "source": [
    "### 读取特征文件，将多个模型计算得到的特征向量合并。\n",
    "### 分别处理将两模型特征合并，三模型特征合并的两种情况。\n",
    "### fine-tuning分类器，并且预测测试集，将结果提交Kaggle。"
   ]
  },
  {
   "cell_type": "code",
   "execution_count": 3,
   "metadata": {},
   "outputs": [
    {
     "name": "stdout",
     "output_type": "stream",
     "text": [
      "2018-03-30 14:51:46\n"
     ]
    },
    {
     "name": "stderr",
     "output_type": "stream",
     "text": [
      "/usr/local/anaconda3/lib/python3.6/site-packages/ipykernel_launcher.py:28: UserWarning: The `nb_epoch` argument in `fit` has been renamed `epochs`.\n"
     ]
    },
    {
     "name": "stdout",
     "output_type": "stream",
     "text": [
      "Train on 20000 samples, validate on 5000 samples\n",
      "Epoch 1/10\n",
      "20000/20000 [==============================] - 3s 146us/step - loss: 0.1002 - acc: 0.9744 - val_loss: 0.0306 - val_acc: 0.9930\n",
      "Epoch 2/10\n",
      "20000/20000 [==============================] - 1s 35us/step - loss: 0.0239 - acc: 0.9936 - val_loss: 0.0227 - val_acc: 0.9934\n",
      "Epoch 3/10\n",
      "20000/20000 [==============================] - 1s 34us/step - loss: 0.0178 - acc: 0.9942 - val_loss: 0.0203 - val_acc: 0.9936\n",
      "Epoch 4/10\n",
      "20000/20000 [==============================] - 1s 37us/step - loss: 0.0163 - acc: 0.9949 - val_loss: 0.0198 - val_acc: 0.9940\n",
      "Epoch 5/10\n",
      "20000/20000 [==============================] - 1s 37us/step - loss: 0.0147 - acc: 0.9951 - val_loss: 0.0197 - val_acc: 0.9938\n",
      "Epoch 6/10\n",
      "20000/20000 [==============================] - 1s 35us/step - loss: 0.0149 - acc: 0.9950 - val_loss: 0.0199 - val_acc: 0.9936\n",
      "Epoch 7/10\n",
      "20000/20000 [==============================] - 1s 36us/step - loss: 0.0137 - acc: 0.9952 - val_loss: 0.0194 - val_acc: 0.9948\n",
      "Epoch 8/10\n",
      "20000/20000 [==============================] - 1s 35us/step - loss: 0.0130 - acc: 0.9960 - val_loss: 0.0190 - val_acc: 0.9938\n",
      "Epoch 9/10\n",
      "20000/20000 [==============================] - 1s 37us/step - loss: 0.0121 - acc: 0.9960 - val_loss: 0.0203 - val_acc: 0.9946\n",
      "Epoch 10/10\n",
      "20000/20000 [==============================] - 1s 35us/step - loss: 0.0123 - acc: 0.9961 - val_loss: 0.0198 - val_acc: 0.9938\n",
      "12500/12500 [==============================] - 2s 129us/step\n",
      "Found 12500 images belonging to 1 classes.\n"
     ]
    },
    {
     "name": "stderr",
     "output_type": "stream",
     "text": [
      "/usr/local/anaconda3/lib/python3.6/site-packages/ipykernel_launcher.py:43: FutureWarning: set_value is deprecated and will be removed in a future release. Please use .at[] or .iat[] accessors instead\n"
     ]
    },
    {
     "name": "stdout",
     "output_type": "stream",
     "text": [
      "2018-03-30 14:51:58\n",
      "Train on 20000 samples, validate on 5000 samples\n",
      "Epoch 1/10\n",
      "20000/20000 [==============================] - 3s 149us/step - loss: 0.0649 - acc: 0.9842 - val_loss: 0.0262 - val_acc: 0.9912\n",
      "Epoch 2/10\n",
      "20000/20000 [==============================] - 1s 38us/step - loss: 0.0182 - acc: 0.9950 - val_loss: 0.0187 - val_acc: 0.9938\n",
      "Epoch 3/10\n",
      "20000/20000 [==============================] - 1s 40us/step - loss: 0.0140 - acc: 0.9956 - val_loss: 0.0185 - val_acc: 0.9940\n",
      "Epoch 4/10\n",
      "20000/20000 [==============================] - 1s 39us/step - loss: 0.0131 - acc: 0.9961 - val_loss: 0.0172 - val_acc: 0.9946\n",
      "Epoch 5/10\n",
      "20000/20000 [==============================] - 1s 38us/step - loss: 0.0125 - acc: 0.9961 - val_loss: 0.0166 - val_acc: 0.9942\n",
      "Epoch 6/10\n",
      "20000/20000 [==============================] - 1s 38us/step - loss: 0.0117 - acc: 0.9965 - val_loss: 0.0167 - val_acc: 0.9942\n",
      "Epoch 7/10\n",
      "20000/20000 [==============================] - 1s 38us/step - loss: 0.0104 - acc: 0.9969 - val_loss: 0.0182 - val_acc: 0.9944\n",
      "Epoch 8/10\n",
      "20000/20000 [==============================] - 1s 38us/step - loss: 0.0103 - acc: 0.9970 - val_loss: 0.0205 - val_acc: 0.9940\n",
      "Epoch 9/10\n",
      "20000/20000 [==============================] - 1s 37us/step - loss: 0.0102 - acc: 0.9968 - val_loss: 0.0169 - val_acc: 0.9944\n",
      "Epoch 10/10\n",
      "20000/20000 [==============================] - 1s 42us/step - loss: 0.0092 - acc: 0.9976 - val_loss: 0.0193 - val_acc: 0.9942\n",
      "12500/12500 [==============================] - 2s 123us/step\n",
      "Found 12500 images belonging to 1 classes.\n",
      "2018-03-30 14:52:10\n"
     ]
    },
    {
     "data": {
      "image/png": "[encoded data removed]",
      "text/plain": [
       "<matplotlib.figure.Figure at 0x7fd926a5d160>"
      ]
     },
     "metadata": {},
     "output_type": "display_data"
    },
    {
     "data": {
      "image/png": "[encoded data removed]",
      "text/plain": [
       "<matplotlib.figure.Figure at 0x7fd926bfd898>"
      ]
     },
     "metadata": {},
     "output_type": "display_data"
    }
   ],
   "source": [
    "IV3_X_files = [\"gap_Xception.h5\", \"gap_InceptionV3.h5\"]\n",
    "IV3_X_IRV2_files = [\"gap_Xception.h5\", \"gap_InceptionV3.h5\",\"gap_InceptionResNetV2.h5\"]\n",
    "\n",
    "def fine_tuning_net(files_list):\n",
    "    \n",
    "    X_train = []\n",
    "    X_test = []\n",
    "\n",
    "    for filename in files_list:\n",
    "        with h5py.File(filename, 'r') as h:\n",
    "            X_train.append(np.array(h['train']))\n",
    "            X_test.append(np.array(h['test']))\n",
    "            y_train = np.array(h['label'])\n",
    "\n",
    "    X_train = np.concatenate(X_train, axis=1)\n",
    "    X_test = np.concatenate(X_test, axis=1)\n",
    "    X_train, y_train = shuffle(X_train, y_train)\n",
    "\n",
    "    input_tensor = Input(X_train.shape[1:])\n",
    "    x = Dropout(0.5)(input_tensor)\n",
    "    x = Dense(1, activation='sigmoid')(x)\n",
    "    model = Model(input_tensor, x)\n",
    "\n",
    "    model.compile(optimizer='adadelta',\n",
    "                  loss='binary_crossentropy',\n",
    "                  metrics=['accuracy'])\n",
    "\n",
    "    model.fit(X_train, y_train, batch_size=128, nb_epoch=10, validation_split=0.2)\n",
    "\n",
    "    show_loss(model)\n",
    "    y_pred = model.predict(X_test, verbose=1)\n",
    "    y_pred = y_pred.clip(min=0.005, max=0.995)\n",
    "    return y_pred\n",
    "\n",
    "def result_csv(y_pred,csvfilename):\n",
    "    df = pd.read_csv(\"sample_submission.csv\")\n",
    "    gen = ImageDataGenerator()\n",
    "    test_generator = gen.flow_from_directory(\"test2\", (224, 224), shuffle=False,\n",
    "                                             batch_size=16, class_mode=None)\n",
    " \n",
    "    for i, fname in enumerate(test_generator.filenames):\n",
    "        index = int(fname[fname.rfind('/')+1:fname.rfind('.')])\n",
    "        df.set_value(index-1, 'label', y_pred[i])\n",
    "\n",
    "    df.to_csv(csvfilename, index=None)\n",
    "\n",
    "show_time()\n",
    "result_csv(fine_tuning_net(IV3_X_files),\"IV3_X_\"+\"pred.csv\")\n",
    "show_time()\n",
    "result_csv(fine_tuning_net(IV3_X_IRV2_files),\"IV3_X_IRV2_\"+\"pred.csv\")\n",
    "show_time()"
   ]
  },
  {
   "cell_type": "code",
   "execution_count": null,
   "metadata": {},
   "outputs": [],
   "source": [
    ""
   ]
  }
 ],
 "metadata": {
  "kernelspec": {
   "display_name": "Python 3",
   "language": "python",
   "name": "python3"
  },
  "language_info": {
   "codemirror_mode": {
    "name": "ipython",
    "version": 3.0
   },
   "file_extension": ".py",
   "mimetype": "text/x-python",
   "name": "python",
   "nbconvert_exporter": "python",
   "pygments_lexer": "ipython3",
   "version": "3.6.4"
  }
 },
 "nbformat": 4,
 "nbformat_minor": 0
}