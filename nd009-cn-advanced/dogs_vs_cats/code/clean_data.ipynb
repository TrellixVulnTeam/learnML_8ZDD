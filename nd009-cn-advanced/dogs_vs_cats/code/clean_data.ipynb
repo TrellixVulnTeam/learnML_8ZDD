{
 "cells": [
  {
   "cell_type": "markdown",
   "metadata": {},
   "source": [
    "### 定义在ImageNet中猫狗类别的标号列表，导入模型"
   ]
  },
  {
   "cell_type": "code",
   "execution_count": 7,
   "metadata": {},
   "outputs": [],
   "source": [
    "from keras.applications.xception import Xception\n",
    "from keras.applications.inception_resnet_v2 import InceptionResNetV2\n",
    "from keras.preprocessing import image\n",
    "from keras.applications import *\n",
    "import numpy as np\n",
    "import os\n",
    "\n",
    "dogs = ['n02085620','n02085782','n02085936','n02086079'\n",
    ",'n02086240','n02086646','n02086910','n02087046'\n",
    ",'n02087394','n02088094','n02088238','n02088364'\n",
    ",'n02088466','n02088632','n02089078','n02089867'\n",
    ",'n02089973','n02090379','n02090622','n02090721'\n",
    ",'n02091032','n02091134','n02091244','n02091467'\n",
    ",'n02091635','n02091831','n02092002','n02092339'\n",
    ",'n02093256','n02093428','n02093647','n02093754'\n",
    ",'n02093859','n02093991','n02094114','n02094258'\n",
    ",'n02094433','n02095314','n02095570','n02095889'\n",
    ",'n02096051','n02096177','n02096294','n02096437'\n",
    ",'n02096585','n02097047','n02097130','n02097209'\n",
    ",'n02097298','n02097474','n02097658','n02098105'\n",
    ",'n02098286','n02098413','n02099267','n02099429'\n",
    ",'n02099601','n02099712','n02099849','n02100236'\n",
    ",'n02100583','n02100735','n02100877','n02101006'\n",
    ",'n02101388','n02101556','n02102040','n02102177'\n",
    ",'n02102318','n02102480','n02102973','n02104029'\n",
    ",'n02104365','n02105056','n02105162','n02105251'\n",
    ",'n02105412','n02105505','n02105641','n02105855'\n",
    ",'n02106030','n02106166','n02106382','n02106550'\n",
    ",'n02106662','n02107142','n02107312','n02107574'\n",
    ",'n02107683','n02107908','n02108000','n02108089'\n",
    ",'n02108422','n02108551','n02108915','n02109047'\n",
    ",'n02109525','n02109961','n02110063','n02110185'\n",
    ",'n02110341','n02110627','n02110806','n02110958'\n",
    ",'n02111129','n02111277','n02111500','n02111889'\n",
    ",'n02112018','n02112137','n02112350','n02112706'\n",
    ",'n02113023','n02113186','n02113624','n02113712'\n",
    ",'n02113799','n02113978']\n",
    "\n",
    "cats=['n02123045','n02123159','n02123394','n02123597'\n",
    ",'n02124075','n02125311','n02127052']\n",
    "\n",
    "\n",
    "img_dogs_path = './train2/dog/'\n",
    "dogs_list = os.listdir(img_dogs_path)\n",
    "\n",
    "img_cats_path = './train2/cat/'\n",
    "cats_list = os.listdir(img_cats_path)\n",
    "\n",
    "\n",
    "model_X= Xception(weights='imagenet')\n",
    "model_IRV2= InceptionResNetV2(weights='imagenet')"
   ]
  },
  {
   "cell_type": "markdown",
   "metadata": {},
   "source": [
    "### 使用预训练模型Xception寻找不是狗的图片"
   ]
  },
  {
   "cell_type": "code",
   "execution_count": 9,
   "metadata": {},
   "outputs": [
    {
     "name": "stdout",
     "output_type": "stream",
     "text": [
      "dog.1895.jpg\n",
      "dog.2171.jpg\n",
      "dog.10747.jpg\n",
      "dog.1043.jpg\n",
      "dog.4367.jpg\n",
      "dog.8736.jpg\n",
      "dog.6475.jpg\n",
      "dog.9517.jpg\n",
      "dog.6725.jpg\n",
      "dog.1194.jpg\n",
      "dog.5170.jpg\n",
      "dog.5529.jpg\n",
      "dog.12376.jpg\n",
      "dog.1835.jpg\n",
      "dog.1308.jpg\n",
      "dog.2422.jpg\n",
      "dog.10801.jpg\n",
      "dog.12155.jpg\n",
      "dog.10237.jpg\n",
      "dog.9931.jpg\n",
      "dog.8607.jpg\n",
      "dog.4507.jpg\n",
      "dog.12148.jpg\n",
      "dog.5604.jpg\n",
      "dog.9188.jpg\n",
      "dog.10161.jpg\n",
      "dog.1773.jpg\n",
      "dog.2614.jpg\n",
      "dog.10190.jpg\n",
      "dog.1259.jpg\n",
      "dog.11299.jpg\n",
      "dog.6982.jpg\n",
      "dog.7805.jpg\n",
      "dog.3889.jpg\n",
      "dog.7332.jpg\n",
      "dog.8898.jpg\n"
     ]
    }
   ],
   "source": [
    "X_noDogs_list =[]\n",
    "\n",
    "for i in dogs_list[0:] :\n",
    "    img = image.load_img(img_dogs_path+i, target_size=(299, 299))\n",
    "    x = image.img_to_array(img)\n",
    "    x = np.expand_dims(x, axis=0)\n",
    "    x = xception.preprocess_input(x)\n",
    "    preds = model_X.predict(x)\n",
    "    res1 = xception.decode_predictions(preds, top=10)[0]\n",
    "    res1 = [k[0] for k in res1]\n",
    "    if len(set(res1) & set(dogs))==0:\n",
    "        X_noDogs_list.append(i)\n",
    "        print(i)"
   ]
  },
  {
   "cell_type": "markdown",
   "metadata": {},
   "source": [
    "### 使用预训练模型InceptionResNetV2寻找不是狗的图片"
   ]
  },
  {
   "cell_type": "code",
   "execution_count": 10,
   "metadata": {},
   "outputs": [
    {
     "name": "stdout",
     "output_type": "stream",
     "text": [
      "dog.1895.jpg\n",
      "dog.2578.jpg\n",
      "dog.10747.jpg\n",
      "dog.1043.jpg\n",
      "dog.4367.jpg\n",
      "dog.5099.jpg\n",
      "dog.8736.jpg\n",
      "dog.4334.jpg\n",
      "dog.6475.jpg\n",
      "dog.9517.jpg\n",
      "dog.6725.jpg\n",
      "dog.11731.jpg\n",
      "dog.1194.jpg\n",
      "dog.12376.jpg\n",
      "dog.1835.jpg\n",
      "dog.1308.jpg\n",
      "dog.2422.jpg\n",
      "dog.10801.jpg\n",
      "dog.12155.jpg\n",
      "dog.4127.jpg\n",
      "dog.7076.jpg\n",
      "dog.10237.jpg\n",
      "dog.9931.jpg\n",
      "dog.11266.jpg\n",
      "dog.4507.jpg\n",
      "dog.12148.jpg\n",
      "dog.4595.jpg\n",
      "dog.5604.jpg\n",
      "dog.9188.jpg\n",
      "dog.10161.jpg\n",
      "dog.10072.jpg\n",
      "dog.1773.jpg\n",
      "dog.2614.jpg\n",
      "dog.10190.jpg\n",
      "dog.1259.jpg\n",
      "dog.11299.jpg\n",
      "dog.6028.jpg\n",
      "dog.3889.jpg\n",
      "dog.5644.jpg\n",
      "dog.4768.jpg\n"
     ]
    }
   ],
   "source": [
    "IRV2_noDogs_list =[]\n",
    "\n",
    "for i in dogs_list[0:] :\n",
    "    img = image.load_img(img_dogs_path+i, target_size=(299, 299))\n",
    "    x = image.img_to_array(img)\n",
    "    x = np.expand_dims(x, axis=0)\n",
    "    x = inception_resnet_v2.preprocess_input(x)\n",
    "    preds = model_IRV2.predict(x)\n",
    "    res1 = inception_resnet_v2.decode_predictions(preds, top=10)[0]\n",
    "    res1 = [k[0] for k in res1]\n",
    "    if len(set(res1) & set(dogs))==0:\n",
    "        print(i)"
   ]
  },
  {
   "cell_type": "markdown",
   "metadata": {},
   "source": [
    "### 使用预训练模型Xception寻找不是猫的图片"
   ]
  },
  {
   "cell_type": "code",
   "execution_count": 17,
   "metadata": {},
   "outputs": [
    {
     "name": "stdout",
     "output_type": "stream",
     "text": [
      "cat.12424.jpg\n",
      "cat.3731.jpg\n",
      "cat.5418.jpg\n",
      "cat.7377.jpg\n",
      "cat.7968.jpg\n",
      "cat.9171.jpg\n",
      "cat.2337.jpg\n",
      "cat.9444.jpg\n",
      "cat.3868.jpg\n",
      "cat.10270.jpg\n",
      "cat.11184.jpg\n",
      "cat.10636.jpg\n",
      "cat.4688.jpg\n",
      "cat.5527.jpg\n",
      "cat.5355.jpg\n",
      "cat.9090.jpg\n",
      "cat.2939.jpg\n",
      "cat.9494.jpg\n",
      "cat.11565.jpg\n",
      "cat.6429.jpg\n",
      "cat.3216.jpg\n",
      "cat.12493.jpg\n",
      "cat.5351.jpg\n",
      "cat.10712.jpg\n",
      "cat.7920.jpg\n",
      "cat.7487.jpg\n",
      "cat.2433.jpg\n",
      "cat.7703.jpg\n",
      "cat.3672.jpg\n",
      "cat.10365.jpg\n",
      "cat.8456.jpg\n",
      "cat.2520.jpg\n",
      "cat.6442.jpg\n",
      "cat.12476.jpg\n",
      "cat.5071.jpg\n",
      "cat.7564.jpg\n",
      "cat.6655.jpg\n",
      "cat.10029.jpg\n",
      "cat.4338.jpg\n",
      "cat.587.jpg\n",
      "cat.8087.jpg\n",
      "cat.372.jpg\n",
      "cat.12272.jpg\n",
      "cat.12227.jpg\n"
     ]
    }
   ],
   "source": [
    "X_noCats_list =[]\n",
    "\n",
    "for i in cats_list[0:] :\n",
    "    img = image.load_img(img_cats_path+i, target_size=(299, 299))\n",
    "    x = image.img_to_array(img)\n",
    "    x = np.expand_dims(x, axis=0)\n",
    "    x = xception.preprocess_input(x)\n",
    "    preds = model_X.predict(x)\n",
    "    res1 = xception.decode_predictions(preds, top=50)[0]\n",
    "    res1 = [k[0] for k in res1]\n",
    "    if len(set(res1) & set(cats))==0:\n",
    "        X_noCats_list.append(i)\n",
    "        print(i)"
   ]
  },
  {
   "cell_type": "markdown",
   "metadata": {},
   "source": [
    "### 使用预训练模型InceptionResNetV2寻找不是猫的图片"
   ]
  },
  {
   "cell_type": "code",
   "execution_count": 18,
   "metadata": {},
   "outputs": [
    {
     "name": "stdout",
     "output_type": "stream",
     "text": [
      "cat.5168.jpg\n",
      "cat.3731.jpg\n",
      "cat.4503.jpg\n",
      "cat.5418.jpg\n",
      "cat.2663.jpg\n",
      "cat.7377.jpg\n",
      "cat.7464.jpg\n",
      "cat.7968.jpg\n",
      "cat.4575.jpg\n",
      "cat.7194.jpg\n",
      "cat.2509.jpg\n",
      "cat.12378.jpg\n",
      "cat.9171.jpg\n",
      "cat.4126.jpg\n",
      "cat.5820.jpg\n",
      "cat.10270.jpg\n",
      "cat.11184.jpg\n",
      "cat.9596.jpg\n",
      "cat.4688.jpg\n",
      "cat.2939.jpg\n",
      "cat.4965.jpg\n",
      "cat.6429.jpg\n",
      "cat.3216.jpg\n",
      "cat.5351.jpg\n",
      "cat.7372.jpg\n",
      "cat.5324.jpg\n",
      "cat.10712.jpg\n",
      "cat.7920.jpg\n",
      "cat.7487.jpg\n",
      "cat.2456.jpg\n",
      "cat.9006.jpg\n",
      "cat.6345.jpg\n",
      "cat.3672.jpg\n",
      "cat.8456.jpg\n",
      "cat.10700.jpg\n",
      "cat.2520.jpg\n",
      "cat.6442.jpg\n",
      "cat.4308.jpg\n",
      "cat.2150.jpg\n",
      "cat.5071.jpg\n",
      "cat.7564.jpg\n",
      "cat.6655.jpg\n",
      "cat.7738.jpg\n",
      "cat.10029.jpg\n",
      "cat.8470.jpg\n",
      "cat.9110.jpg\n",
      "cat.10037.jpg\n",
      "cat.3004.jpg\n",
      "cat.335.jpg\n",
      "cat.9499.jpg\n",
      "cat.4338.jpg\n",
      "cat.6402.jpg\n",
      "cat.372.jpg\n",
      "cat.12272.jpg\n",
      "cat.12227.jpg\n",
      "cat.6699.jpg\n",
      "cat.503.jpg\n"
     ]
    }
   ],
   "source": [
    "IRV2_noCats_list =[]\n",
    "\n",
    "for i in cats_list[0:] :\n",
    "    img = image.load_img(img_cats_path+i, target_size=(299, 299))\n",
    "    x = image.img_to_array(img)\n",
    "    x = np.expand_dims(x, axis=0)\n",
    "    x = inception_resnet_v2.preprocess_input(x)\n",
    "    preds = model_IRV2.predict(x)\n",
    "    res1 = inception_resnet_v2.decode_predictions(preds, top=50)[0]\n",
    "    res1 = [k[0] for k in res1]\n",
    "    if len(set(res1) & set(cats))==0:\n",
    "        IRV2_noCats_list.append(i)\n",
    "        print(i)"
   ]
  },
  {
   "cell_type": "markdown",
   "metadata": {},
   "source": [
    "### 合并两个模型找到的不是猫狗的图片，根据输出列表进行人工筛选"
   ]
  },
  {
   "cell_type": "code",
   "execution_count": 19,
   "metadata": {},
   "outputs": [
    {
     "name": "stdout",
     "output_type": "stream",
     "text": [
      "36 {'dog.1043.jpg', 'dog.7332.jpg', 'dog.11299.jpg', 'dog.2171.jpg', 'dog.10747.jpg', 'dog.4507.jpg', 'dog.3889.jpg', 'dog.10801.jpg', 'dog.8736.jpg', 'dog.9188.jpg', 'dog.9931.jpg', 'dog.9517.jpg', 'dog.8607.jpg', 'dog.8898.jpg', 'dog.1895.jpg', 'dog.10190.jpg', 'dog.5170.jpg', 'dog.7805.jpg', 'dog.12148.jpg', 'dog.10237.jpg', 'dog.5604.jpg', 'dog.6982.jpg', 'dog.1308.jpg', 'dog.5529.jpg', 'dog.1259.jpg', 'dog.1835.jpg', 'dog.1194.jpg', 'dog.1773.jpg', 'dog.10161.jpg', 'dog.4367.jpg', 'dog.6475.jpg', 'dog.2614.jpg', 'dog.6725.jpg', 'dog.12155.jpg', 'dog.12376.jpg', 'dog.2422.jpg'}\n",
      "74 {'cat.9444.jpg', 'cat.9499.jpg', 'cat.3216.jpg', 'cat.4965.jpg', 'cat.2337.jpg', 'cat.2509.jpg', 'cat.4503.jpg', 'cat.587.jpg', 'cat.5355.jpg', 'cat.5351.jpg', 'cat.5820.jpg', 'cat.9494.jpg', 'cat.7920.jpg', 'cat.2663.jpg', 'cat.6402.jpg', 'cat.6345.jpg', 'cat.9171.jpg', 'cat.2456.jpg', 'cat.12476.jpg', 'cat.4338.jpg', 'cat.12272.jpg', 'cat.3672.jpg', 'cat.372.jpg', 'cat.7564.jpg', 'cat.4308.jpg', 'cat.8470.jpg', 'cat.9110.jpg', 'cat.7487.jpg', 'cat.10270.jpg', 'cat.12378.jpg', 'cat.2939.jpg', 'cat.10700.jpg', 'cat.7968.jpg', 'cat.9006.jpg', 'cat.11565.jpg', 'cat.10037.jpg', 'cat.12227.jpg', 'cat.6429.jpg', 'cat.9090.jpg', 'cat.503.jpg', 'cat.3004.jpg', 'cat.10636.jpg', 'cat.4575.jpg', 'cat.9596.jpg', 'cat.5324.jpg', 'cat.7377.jpg', 'cat.12424.jpg', 'cat.2433.jpg', 'cat.4688.jpg', 'cat.5418.jpg', 'cat.11184.jpg', 'cat.2520.jpg', 'cat.6655.jpg', 'cat.5527.jpg', 'cat.12493.jpg', 'cat.8456.jpg', 'cat.3868.jpg', 'cat.5168.jpg', 'cat.7738.jpg', 'cat.6699.jpg', 'cat.335.jpg', 'cat.7703.jpg', 'cat.5071.jpg', 'cat.2150.jpg', 'cat.7194.jpg', 'cat.10029.jpg', 'cat.10712.jpg', 'cat.7464.jpg', 'cat.6442.jpg', 'cat.4126.jpg', 'cat.3731.jpg', 'cat.10365.jpg', 'cat.8087.jpg', 'cat.7372.jpg'}\n"
     ]
    }
   ],
   "source": [
    "noDogs_list = set(X_noDogs_list) | set(IRV2_noDogs_list)\n",
    "noCats_list = set(X_noCats_list) | set(IRV2_noCats_list)\n",
    "print(len(noDogs_list),noDogs_list)\n",
    "print(len(noCats_list),noCats_list)"
   ]
  },
  {
   "cell_type": "code",
   "execution_count": null,
   "metadata": {},
   "outputs": [],
   "source": [
    ""
   ]
  }
 ],
 "metadata": {
  "kernelspec": {
   "display_name": "Python 3",
   "language": "python",
   "name": "python3"
  },
  "language_info": {
   "codemirror_mode": {
    "name": "ipython",
    "version": 3.0
   },
   "file_extension": ".py",
   "mimetype": "text/x-python",
   "name": "python",
   "nbconvert_exporter": "python",
   "pygments_lexer": "ipython3",
   "version": "3.6.4"
  }
 },
 "nbformat": 4,
 "nbformat_minor": 0
}