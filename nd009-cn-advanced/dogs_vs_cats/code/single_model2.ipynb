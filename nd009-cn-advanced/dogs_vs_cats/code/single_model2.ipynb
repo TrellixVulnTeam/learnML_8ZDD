{
 "cells": [
  {
   "cell_type": "markdown",
   "metadata": {},
   "source": [
    "### 使用InceptionResNetV2模型在ImageNet数据集预训练的参数。\n",
    "### 首先调用预处理函数，卷集层输出使用全局平均池化处理，最后保留模型输出的1536维特征"
   ]
  },
  {
   "cell_type": "code",
   "execution_count": 4,
   "metadata": {},
   "outputs": [
    {
     "name": "stdout",
     "output_type": "stream",
     "text": [
      "Found 25000 images belonging to 2 classes.\n",
      "Found 12500 images belonging to 1 classes.\n"
     ]
    }
   ],
   "source": [
    "from keras.models import *\n",
    "from keras.layers import *\n",
    "from keras.applications import *\n",
    "from keras.preprocessing.image import *\n",
    "from sklearn.utils import shuffle\n",
    "import pandas as pd\n",
    "from keras.preprocessing.image import *\n",
    "\n",
    "\n",
    "np.random.seed(2018)\n",
    "\n",
    "base_model = InceptionResNetV2(input_tensor=Lambda(inception_resnet_v2.preprocess_input)(Input((299,299,3))), \n",
    "                               weights='imagenet',include_top = False)\n",
    "model = Model(base_model.input, GlobalAveragePooling2D()(base_model.output))\n",
    "\n",
    "gen1 = ImageDataGenerator()  #图片生成器ImageDataGenerator\n",
    "\n",
    "train_generator = gen1.flow_from_directory(\"train2\",(299,299),shuffle=False,batch_size=16)\n",
    "test_generator = gen1.flow_from_directory(\"test2\", (299,299), shuffle=False, batch_size=16,class_mode=None)\n",
    "\n",
    "train = model.predict_generator(train_generator,steps = train_generator.samples/16)\n",
    "test = model.predict_generator(test_generator,steps = test_generator.samples/16)"
   ]
  },
  {
   "cell_type": "markdown",
   "metadata": {},
   "source": [
    "### 以上base_model所有层未被训练，也不要要训练。以下将添加的层需要训练，调整权值。\n",
    "### fine-tuning好的网络将预测测试集的结果，并将结果提交Kaggel"
   ]
  },
  {
   "cell_type": "code",
   "execution_count": 13,
   "metadata": {},
   "outputs": [
    {
     "name": "stdout",
     "output_type": "stream",
     "text": [
      "Train on 20000 samples, validate on 5000 samples\n",
      "Epoch 1/10\n",
      "20000/20000 [==============================] - 6s 307us/step - loss: 0.1426 - acc: 0.9662 - val_loss: 0.0432 - val_acc: 0.9930\n",
      "Epoch 2/10\n",
      "20000/20000 [==============================] - 1s 45us/step - loss: 0.0386 - acc: 0.9919 - val_loss: 0.0290 - val_acc: 0.9928\n",
      "Epoch 3/10\n",
      "20000/20000 [==============================] - 1s 44us/step - loss: 0.0284 - acc: 0.9930 - val_loss: 0.0270 - val_acc: 0.9940\n",
      "Epoch 4/10\n",
      "20000/20000 [==============================] - 1s 45us/step - loss: 0.0250 - acc: 0.9940 - val_loss: 0.0234 - val_acc: 0.9950\n",
      "Epoch 5/10\n",
      "20000/20000 [==============================] - 1s 44us/step - loss: 0.0228 - acc: 0.9941 - val_loss: 0.0228 - val_acc: 0.9950\n",
      "Epoch 6/10\n",
      "20000/20000 [==============================] - 1s 44us/step - loss: 0.0217 - acc: 0.9936 - val_loss: 0.0227 - val_acc: 0.9944\n",
      "Epoch 7/10\n",
      "20000/20000 [==============================] - 1s 44us/step - loss: 0.0216 - acc: 0.9938 - val_loss: 0.0222 - val_acc: 0.9944\n",
      "Epoch 8/10\n",
      "20000/20000 [==============================] - 1s 44us/step - loss: 0.0199 - acc: 0.9950 - val_loss: 0.0219 - val_acc: 0.9942\n",
      "Epoch 9/10\n",
      "20000/20000 [==============================] - 1s 44us/step - loss: 0.0189 - acc: 0.9950 - val_loss: 0.0217 - val_acc: 0.9942\n",
      "Epoch 10/10\n",
      "20000/20000 [==============================] - 1s 44us/step - loss: 0.0204 - acc: 0.9946 - val_loss: 0.0216 - val_acc: 0.9950\n",
      "12500/12500 [==============================] - 3s 262us/step\n",
      "Found 12500 images belonging to 1 classes.\n"
     ]
    },
    {
     "name": "stderr",
     "output_type": "stream",
     "text": [
      "/usr/local/anaconda3/lib/python3.6/site-packages/ipykernel_launcher.py:46: FutureWarning: set_value is deprecated and will be removed in a future release. Please use .at[] or .iat[] accessors instead\n"
     ]
    },
    {
     "data": {
      "image/png": "[encoded data removed]",
      "text/plain": [
       "<matplotlib.figure.Figure at 0x7fc397f9e470>"
      ]
     },
     "metadata": {},
     "output_type": "display_data"
    }
   ],
   "source": [
    "import matplotlib.pyplot as plt\n",
    "%matplotlib inline\n",
    "\n",
    "def show_loss(Model):\n",
    "    fig, ax = plt.subplots(2,1)\n",
    "    his_model = Model.history\n",
    "    history = his_model.history\n",
    "    ax[0].plot(history['loss'], color='b', label=\"loss\")\n",
    "    ax[0].plot(history['val_loss'], color='r', label=\"val_loss\",axes =ax[0])\n",
    "    legend = ax[0].legend(loc='best', shadow=True)\n",
    "\n",
    "    ax[1].plot(history['acc'], color='g', label=\"acc\")\n",
    "    ax[1].plot(history['val_acc'], color='c',label=\"val_acc\")\n",
    "    legend = ax[1].legend(loc='best', shadow=True)\n",
    "\n",
    "X_train = train\n",
    "X_test = test\n",
    "y_train = train_generator.classes\n",
    "X_train, y_train = shuffle(X_train, y_train)\n",
    "\n",
    "input_tensor = Input(X_train.shape[1:])\n",
    "\n",
    "x = Dropout(0.5)(input_tensor)\n",
    "x = Dense(1, activation='sigmoid')(x)\n",
    "model = Model(input_tensor, x)\n",
    "\n",
    "model.compile(optimizer='adadelta',\n",
    "              loss='binary_crossentropy',\n",
    "              metrics=['accuracy'])\n",
    "\n",
    "model.fit(X_train, y_train, batch_size=128, epochs=10, validation_split=0.2)\n",
    "\n",
    "show_loss(model)\n",
    "y_pred = model.predict(X_test, verbose=1)\n",
    "y_pred = y_pred.clip(min=0.005, max=0.995)\n",
    "\n",
    "df = pd.read_csv(\"sample_submission.csv\")\n",
    "\n",
    "\n",
    "gen = ImageDataGenerator()\n",
    "test_generator = gen.flow_from_directory(\"test2\", (299, 299), shuffle=False,\n",
    "                                         batch_size=16, class_mode=None)\n",
    "\n",
    "for i, fname in enumerate(test_generator.filenames):\n",
    "    index = int(fname[fname.rfind('/')+1:fname.rfind('.')])\n",
    "    df.set_value(index-1, 'label', y_pred[i])\n",
    "\n",
    "df.to_csv('pred.csv', index=None)"
   ]
  },
  {
   "cell_type": "code",
   "execution_count": null,
   "metadata": {},
   "outputs": [],
   "source": [
    ""
   ]
  }
 ],
 "metadata": {
  "kernelspec": {
   "display_name": "Python 3",
   "language": "python",
   "name": "python3"
  },
  "language_info": {
   "codemirror_mode": {
    "name": "ipython",
    "version": 3.0
   },
   "file_extension": ".py",
   "mimetype": "text/x-python",
   "name": "python",
   "nbconvert_exporter": "python",
   "pygments_lexer": "ipython3",
   "version": "3.6.4"
  }
 },
 "nbformat": 4,
 "nbformat_minor": 0
}