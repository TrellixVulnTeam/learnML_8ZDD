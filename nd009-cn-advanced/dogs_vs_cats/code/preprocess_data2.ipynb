{
 "cells": [
  {
   "cell_type": "markdown",
   "metadata": {},
   "source": [
    "## 使用Keras的ImageDataGenerator产生批图像数据，需要将训练集和测试集文件夹进行调整。测试集直接链接原文件夹，训练集需要将猫狗图片分别放入不同的文件夹"
   ]
  },
  {
   "cell_type": "code",
   "execution_count": 1,
   "metadata": {},
   "outputs": [],
   "source": [
    "import os\n",
    "import shutil\n",
    "\n",
    "train_filenames = os.listdir('train')\n",
    "train_cat = filter(lambda x:x[:3] == 'cat',train_filenames)\n",
    "train_dog = filter(lambda x:x[:3] == 'dog',train_filenames)\n",
    "\n",
    "def rm_mkdir(dirname):\n",
    "    if os.path.exists(dirname):\n",
    "        shutil.rmtree(dirname)\n",
    "    os.mkdir(dirname)\n",
    "\n",
    "rm_mkdir('train2')\n",
    "os.mkdir(\"train2/cat\")\n",
    "os.mkdir(\"train2/dog\")\n",
    "\n",
    "rm_mkdir('test2')\n",
    "os.symlink('../test','test2/test')\n",
    "\n",
    "for i in train_cat:\n",
    "    os.symlink('../../train/'+i, \"train2/cat/\"+i)\n",
    "\n",
    "for i in train_dog:\n",
    "    os.symlink('../../train/' + i, \"train2/dog/\" + i)"
   ]
  },
  {
   "cell_type": "code",
   "execution_count": null,
   "metadata": {},
   "outputs": [],
   "source": [
    ""
   ]
  }
 ],
 "metadata": {
  "kernelspec": {
   "display_name": "Python 3",
   "language": "python",
   "name": "python3"
  },
  "language_info": {
   "codemirror_mode": {
    "name": "ipython",
    "version": 3.0
   },
   "file_extension": ".py",
   "mimetype": "text/x-python",
   "name": "python",
   "nbconvert_exporter": "python",
   "pygments_lexer": "ipython3",
   "version": "3.6.4"
  }
 },
 "nbformat": 4,
 "nbformat_minor": 0
}