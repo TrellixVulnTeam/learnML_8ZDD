{
 "cells": [
  {
   "cell_type": "code",
   "execution_count": 1,
   "metadata": {},
   "outputs": [
    {
     "name": "stderr",
     "output_type": "stream",
     "text": [
      "/usr/local/anaconda3/lib/python3.6/site-packages/h5py/__init__.py:36: FutureWarning: Conversion of the second argument of issubdtype from `float` to `np.floating` is deprecated. In future, it will be treated as `np.float64 == np.dtype(float).type`.\n",
      "  from ._conv import register_converters as _register_converters\n",
      "Using TensorFlow backend.\n",
      "/usr/local/anaconda3/lib/python3.6/importlib/_bootstrap.py:219: RuntimeWarning: compiletime version 3.5 of module 'tensorflow.python.framework.fast_tensor_util' does not match runtime version 3.6\n",
      "  return f(*args, **kwds)\n"
     ]
    },
    {
     "name": "stdout",
     "output_type": "stream",
     "text": [
      "Found 25000 images belonging to 2 classes.\n",
      "Found 12500 images belonging to 1 classes.\n"
     ]
    }
   ],
   "source": [
    "from keras.models import *\n",
    "from keras.layers import *\n",
    "from keras.applications import *\n",
    "from keras.preprocessing.image import *\n",
    "from sklearn.utils import shuffle\n",
    "import pandas as pd\n",
    "from keras.preprocessing.image import *\n",
    "import matplotlib.pyplot as plt\n",
    "%matplotlib inline\n",
    "\n",
    "np.random.seed(2018)\n",
    "\n",
    "def show_loss(Model):\n",
    "    fig, ax = plt.subplots(2,1)\n",
    "    his_model = Model.history\n",
    "    history = his_model.history\n",
    "    ax[0].plot(history['loss'], color='b', label=\"loss\")\n",
    "    ax[0].plot(history['val_loss'], color='r', label=\"val_loss\",axes =ax[0])\n",
    "    legend = ax[0].legend(loc='best', shadow=True)\n",
    "\n",
    "    ax[1].plot(history['acc'], color='g', label=\"acc\")\n",
    "    ax[1].plot(history['val_acc'], color='c',label=\"val_acc\")\n",
    "    legend = ax[1].legend(loc='best', shadow=True)\n",
    "    \n",
    "def get_base_model_feature():\n",
    "    \n",
    "    base_model = ResNet50(input_tensor=Lambda(resnet50.preprocess_input)(Input((224,224,3))), \n",
    "                               weights='imagenet',include_top = False)\n",
    "\n",
    "    model = Model(base_model.input, GlobalAveragePooling2D()(base_model.output))\n",
    "    \n",
    "    gen1 = ImageDataGenerator()  #图片生成器ImageDataGenerator\n",
    "    train_generator = gen1.flow_from_directory(\"train2\",(224,224),shuffle=False,batch_size=16)\n",
    "    test_generator = gen1.flow_from_directory(\"test2\", (224,224), shuffle=False, batch_size=16,class_mode=None)\n",
    "\n",
    "    train = model.predict_generator(train_generator,steps = train_generator.samples/16)\n",
    "    test = model.predict_generator(test_generator,steps = test_generator.samples/16)\n",
    "    \n",
    "    return train,test,train_generator.classes\n",
    "\n",
    "X_train,X_test,y_train = get_base_model_feature()"
   ]
  },
  {
   "cell_type": "code",
   "execution_count": 7,
   "metadata": {
    "scrolled": true
   },
   "outputs": [
    {
     "name": "stdout",
     "output_type": "stream",
     "text": [
      "Train on 20000 samples, validate on 5000 samples\n",
      "Epoch 1/10\n",
      "20000/20000 [==============================] - 1s 37us/step - loss: 0.1119 - acc: 0.9576 - val_loss: 0.0369 - val_acc: 0.9876\n",
      "Epoch 2/10\n",
      "20000/20000 [==============================] - 0s 18us/step - loss: 0.0482 - acc: 0.9829 - val_loss: 0.0322 - val_acc: 0.9886\n",
      "Epoch 3/10\n",
      "20000/20000 [==============================] - 0s 17us/step - loss: 0.0431 - acc: 0.9847 - val_loss: 0.0327 - val_acc: 0.9896\n",
      "Epoch 4/10\n",
      "20000/20000 [==============================] - 0s 18us/step - loss: 0.0415 - acc: 0.9851 - val_loss: 0.0299 - val_acc: 0.9892\n",
      "Epoch 5/10\n",
      "20000/20000 [==============================] - 0s 20us/step - loss: 0.0362 - acc: 0.9873 - val_loss: 0.0324 - val_acc: 0.9870\n",
      "Epoch 6/10\n",
      "20000/20000 [==============================] - 0s 19us/step - loss: 0.0370 - acc: 0.9870 - val_loss: 0.0299 - val_acc: 0.9906\n",
      "Epoch 7/10\n",
      "20000/20000 [==============================] - 0s 19us/step - loss: 0.0369 - acc: 0.9863 - val_loss: 0.0317 - val_acc: 0.9890\n",
      "Epoch 8/10\n",
      "20000/20000 [==============================] - 0s 18us/step - loss: 0.0363 - acc: 0.9868 - val_loss: 0.0289 - val_acc: 0.9896\n",
      "Epoch 9/10\n",
      "20000/20000 [==============================] - 0s 20us/step - loss: 0.0354 - acc: 0.9879 - val_loss: 0.0320 - val_acc: 0.9888\n",
      "Epoch 10/10\n",
      "20000/20000 [==============================] - 0s 20us/step - loss: 0.0373 - acc: 0.9869 - val_loss: 0.0295 - val_acc: 0.9904\n",
      "12500/12500 [==============================] - 0s 34us/step\n",
      "Found 12500 images belonging to 1 classes.\n"
     ]
    },
    {
     "name": "stderr",
     "output_type": "stream",
     "text": [
      "/usr/local/anaconda3/lib/python3.6/site-packages/ipykernel_launcher.py:32: FutureWarning: set_value is deprecated and will be removed in a future release. Please use .at[] or .iat[] accessors instead\n"
     ]
    },
    {
     "data": {
      "image/png": "[encoded data removed]",
      "text/plain": [
       "<matplotlib.figure.Figure at 0x7efc0455bc88>"
      ]
     },
     "metadata": {},
     "output_type": "display_data"
    }
   ],
   "source": [
    "def fine_tuning_net():\n",
    "    \n",
    "    X_train1, y_train1 = shuffle(X_train, y_train)\n",
    "    input_tensor = Input(X_train1.shape[1:])\n",
    "    x = Dropout(0.5)(input_tensor)\n",
    "    x = Dense(1, activation='sigmoid')(x)\n",
    "\n",
    "    model = Model(input_tensor, x)\n",
    "    \n",
    "    model.compile(optimizer='rmsprop',\n",
    "              loss='binary_crossentropy',\n",
    "              metrics=['accuracy'])\n",
    "\n",
    "    model.fit(X_train1, y_train1, batch_size=128, epochs=10, validation_split=0.2)\n",
    "    show_loss(model)\n",
    "    y_pred = model.predict(X_test, verbose=1)\n",
    "    y_pred = y_pred.clip(min=0.005, max=0.995)\n",
    "    return y_pred\n",
    "\n",
    "y_pred1 = fine_tuning_net()\n",
    "\n",
    "\n",
    "def result_2csv():\n",
    "    df = pd.read_csv(\"sample_submission.csv\")\n",
    "    gen2 = ImageDataGenerator()\n",
    "    test_generator = gen2.flow_from_directory(\"test2\", (299, 299), shuffle=False,\n",
    "                                         batch_size=16, class_mode=None)\n",
    "\n",
    "    for i, fname in enumerate(test_generator.filenames):\n",
    "        index = int(fname[fname.rfind('/')+1:fname.rfind('.')])\n",
    "        df.set_value(index-1, 'label', y_pred1[i])\n",
    "\n",
    "    df.to_csv('pred.csv', index=None)\n",
    "\n",
    "result_2csv()"
   ]
  },
  {
   "cell_type": "code",
   "execution_count": null,
   "metadata": {},
   "outputs": [],
   "source": [
    ""
   ]
  }
 ],
 "metadata": {
  "kernelspec": {
   "display_name": "Python 3",
   "language": "python",
   "name": "python3"
  },
  "language_info": {
   "codemirror_mode": {
    "name": "ipython",
    "version": 3.0
   },
   "file_extension": ".py",
   "mimetype": "text/x-python",
   "name": "python",
   "nbconvert_exporter": "python",
   "pygments_lexer": "ipython3",
   "version": "3.6.4"
  }
 },
 "nbformat": 4,
 "nbformat_minor": 0
}